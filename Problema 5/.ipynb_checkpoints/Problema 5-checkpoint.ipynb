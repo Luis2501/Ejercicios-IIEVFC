{
 "cells": [
  {
   "cell_type": "markdown",
   "metadata": {},
   "source": [
    "<h1>\n",
    "    <center>Problema 5</center>\n",
    "</h1>    \n",
    "\n",
    "<center><a href=\"https://github.com/Luis2501\">Luis Eduardo Sánchez González</a></center>\n",
    "\n",
    "<br>\n",
    "\n",
    "<center>Facultad de Ciencias Físico Matemáticas, Universidad Autonoma de Coahuila</center> \n",
    "\n",
    "<br>\n",
    "\n",
    "<center><b>E-mail:</b> lsgm16308@gmail.com</center>"
   ]
  },
  {
   "cell_type": "markdown",
   "metadata": {},
   "source": [
    "______________"
   ]
  },
  {
   "cell_type": "markdown",
   "metadata": {},
   "source": [
    "Considerar un aro horizontal sin rozamiento de radio R. En este aro enhebro tres objetos con masas idénticas m, y, entre los objetos, tres muelles idénticos, cada uno con una masa constante de fuerza k.\n",
    "\n",
    "<p align=\"center\">\n",
    "  <img src=\"https://habrastorage.org/webt/nz/qz/g4/nzqzg42gjarvpx3yk-fy0qgn20k.png\"  width=55% />\n",
    "</p>\n",
    "\n",
    "Sabemos que, la energía cinética es:\n",
    "\n",
    "$$T=\\frac{1}{2}mR^2(\\dot{\\phi_1^2}+\\dot{\\phi_2^2}+\\dot{\\phi_3^2})$$\n",
    "\n",
    "y la energía potencial:\n",
    "\n",
    "$$U=\\frac{1}{2}kR^2 [(\\phi_1-\\phi_2)^2+(\\phi_2-\\phi_3)^2+(\\phi_3-\\phi_1)^2]$$\n",
    "\n",
    "Resultado: Sistema de EDOs \n",
    "\n",
    "$$m\\frac{d^2\\phi_1}{dt^2}=-k(\\phi_1-\\phi_2)-k(\\phi_1-\\phi_3)$$\n",
    "\n",
    "$$m\\frac{d^2\\phi_2}{dt^2}=-k(\\phi_2-\\phi_3)-k(\\phi_2-\\phi_1)$$\n",
    "\n",
    "$$m\\frac{d^2\\phi_3}{dt^2}=-k(\\phi_3-\\phi_1)-k(\\phi_3-\\phi_2)$$\n",
    "\n",
    "a) Encontrar las ecuaciones de movimiento para cada masa usando las ecuaciones de Euler-Lagrange. *(ejemplo en PCP_sesión5.ipynb)*\n",
    "\n",
    "b) Resolver numéricamente el sistema de ecuaciones con los métodos de Euler y RK de orden 4. Para los datos: $\\phi_1(t=0)=\\phi_2/2,\\quad \\phi_2(t=0)=\\phi_3/2,\\quad \\phi_3(t=0)=\\pi/10 \\quad $ y $\\quad \\phi_1'(t=0)=1,\\quad \\phi_2'(t=0)=1,\\quad \\phi_3'(t=0)=1, \\quad R=m=k=1$\n",
    "\n",
    "\n",
    "c) Mostrar los resultados y explicar la dinámica del sistema en base al resultado de la simulación."
   ]
  },
  {
   "cell_type": "markdown",
   "metadata": {},
   "source": [
    "## Solución \n",
    "\n",
    "____________"
   ]
  },
  {
   "cell_type": "code",
   "execution_count": 1,
   "metadata": {},
   "outputs": [],
   "source": [
    "import plotly.graph_objects as go\n",
    "import numpy as np\n",
    "import sys\n",
    "\n",
    "sys.path.append(\"../\")\n",
    "\n",
    "from PhysicsPy.ODEsMethods import *"
   ]
  },
  {
   "cell_type": "code",
   "execution_count": 2,
   "metadata": {},
   "outputs": [],
   "source": [
    "class Aro:\n",
    "\n",
    "    def __init__(self, k, m):\n",
    "\n",
    "        self.k, self. m = k, m \n",
    "\n",
    "    def __call__(self, u, t):\n",
    "\n",
    "        Phi_1, Vphi_1, Phi_2, Vphi_2, Phi_3, Vphi_3 = u\n",
    "        k, m = self.k, self.m\n",
    "        \n",
    "        return np.array([Vphi_1, (k/m)*(-(Phi_1 - Phi_2) - (Phi_1 - Phi_3)),\n",
    "                        Vphi_2, (k/m)*(-(Phi_2 - Phi_3) - (Phi_2 - Phi_1)),\n",
    "                        Vphi_3, (k/m)*(-(Phi_3 - Phi_1) - (Phi_3 - Phi_2)) ])"
   ]
  }
 ],
 "metadata": {
  "hide_input": false,
  "kernelspec": {
   "display_name": "Python 3",
   "language": "python",
   "name": "python3"
  },
  "language_info": {
   "codemirror_mode": {
    "name": "ipython",
    "version": 3
   },
   "file_extension": ".py",
   "mimetype": "text/x-python",
   "name": "python",
   "nbconvert_exporter": "python",
   "pygments_lexer": "ipython3",
   "version": "3.8.3"
  },
  "toc": {
   "base_numbering": 1,
   "nav_menu": {},
   "number_sections": true,
   "sideBar": true,
   "skip_h1_title": false,
   "title_cell": "Table of Contents",
   "title_sidebar": "Contents",
   "toc_cell": false,
   "toc_position": {},
   "toc_section_display": true,
   "toc_window_display": false
  }
 },
 "nbformat": 4,
 "nbformat_minor": 4
}
