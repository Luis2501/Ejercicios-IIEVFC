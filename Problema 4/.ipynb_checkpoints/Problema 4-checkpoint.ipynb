{
 "cells": [
  {
   "cell_type": "markdown",
   "metadata": {},
   "source": [
    "<h1>\n",
    "    <center>Problema 4</center>\n",
    "</h1>    \n",
    "\n",
    "<center><a href=\"https://github.com/Luis2501\">Luis Eduardo Sánchez González</a></center>\n",
    "\n",
    "<br>\n",
    "\n",
    "<center>Facultad de Ciencias Físico Matemáticas, Universidad Autonoma de Coahuila</center> \n",
    "\n",
    "<br>\n",
    "\n",
    "<center><b>E-mail:</b> lsgm16308@gmail.com</center>"
   ]
  },
  {
   "cell_type": "markdown",
   "metadata": {},
   "source": [
    "__________________"
   ]
  },
  {
   "cell_type": "markdown",
   "metadata": {},
   "source": [
    "La carga a partir de la densidad radial de carga lineal, $\\sigma$, sobre el área de la sección transversal del cilindro, está definida por:\n",
    "\n",
    "$$q_{total}=\\int_A \\sigma(r)dA(r)$$\n",
    "\n",
    "donde, dA es el diferencial de área de la base del cilindro:\n",
    "\n",
    "$$q_{total}=\\int_A \\sigma(r)(2\\pi r dr)$$\n",
    "\n",
    "Sabemos que la densidad tiene la forma:\n",
    "\n",
    "$$\\sigma(r)=\\sigma_0 \\left(1-\\frac{r^2}{a^2} \\right)$$\n",
    "\n",
    "donde\n",
    "\n",
    "$$\\sigma_0 =1.3 \\times 10^{-6} C/m^2 , \\; \\; a = 1 \\times 10^{-3} \\; m$$\n",
    "\n",
    "Y el campo eléctrico:\n",
    "\n",
    "$$\\vec{E}=\\frac{kq_{total}}{d^2}\\hat r$$\n",
    "\n",
    "d: distancia de la superficie al espacio a evaluar el campo eléctrico. ($d\\gt r$)\n",
    "\n",
    "\n",
    "a) Determina la distribución de la carga y campo eléctrico (a distancias $d \\in \\{ r+r/4,r+r/2\\}$ ) en función al radio utilizando 3 métodos de integración.\n",
    "\n",
    "b) Obtener la solución analítica, comparar los errores de distintos métodos y detallar análisis."
   ]
  },
  {
   "cell_type": "markdown",
   "metadata": {},
   "source": [
    "## Solución \n",
    "____________"
   ]
  },
  {
   "cell_type": "markdown",
   "metadata": {},
   "source": [
    "Para comenzar, empezamos importando las librerias necesarias."
   ]
  },
  {
   "cell_type": "code",
   "execution_count": 1,
   "metadata": {},
   "outputs": [],
   "source": [
    "import plotly.graph_objects as go\n",
    "import numpy as np\n",
    "import sys\n",
    "\n",
    "sys.path.append(\"../\")\n",
    "from PhysicsPy.Integration import *"
   ]
  },
  {
   "cell_type": "markdown",
   "metadata": {},
   "source": [
    "Se importa el módulo `Integration` de `PhysicsPy`, ahi se encuentran los métodos a utilizar.\n",
    "\n",
    "Ahora, crearemos una clase `Carga` que nos permita crear `cilindros` con distintas características, así podremos conocer su carga."
   ]
  },
  {
   "cell_type": "code",
   "execution_count": 2,
   "metadata": {},
   "outputs": [],
   "source": [
    "class Carga:\n",
    "    \n",
    "    def __init__(self, sigma_0, a):\n",
    "        \n",
    "        self.sigma_0, self.a = sigma_0, a\n",
    "        \n",
    "    def __call__(self, r):\n",
    "        \n",
    "        sigma_0, a = self.sigma_0, self.a\n",
    "        \n",
    "        return np.array(sigma_0*(1 - (r**2/a**2))*2*np.pi*r)"
   ]
  },
  {
   "cell_type": "markdown",
   "metadata": {},
   "source": [
    "Creamos el `Cilindro` con las condiciones que nos imponen.\n",
    "\n",
    "Mediante el módulo `Integration` iteraremos en cada método para obtener las distintas soluciones."
   ]
  },
  {
   "cell_type": "code",
   "execution_count": 3,
   "metadata": {},
   "outputs": [
    {
     "name": "stdout",
     "output_type": "stream",
     "text": [
      "Riemman Integration:  2.0420352044130184e-12\n",
      "Trapeze Integration:  2.0420352044130184e-12\n",
      "Midpoint Integration:  2.042035235043548e-12\n",
      "Simpson1_3 Integration:  2.042035224833363e-12\n",
      "Simpson3_8 Integration:  2.042035204411995e-12\n"
     ]
    }
   ],
   "source": [
    "Cilindro = Carga(1.3e-6, 1e-3)\n",
    "\n",
    "Methods = [Riemann, Trapeze, Midpoint, Simpson1_3, Simpson3_8]\n",
    "Names = [\"Riemman\", \"Trapeze\", \"Midpoint\", \"Simpson1_3\", \"Simpson3_8\"]\n",
    "Solutions = []\n",
    "\n",
    "for class_name, name in zip(Methods, Names):\n",
    "    \n",
    "    Solucion = class_name(Cilindro)\n",
    "    Solucion.Limits(0, Cilindro.a, 1e-7)\n",
    "    Integral = Solucion.Solve()\n",
    "\n",
    "    Solutions.append(Integral)\n",
    "    \n",
    "    print(name + \" Integration: \", Integral)\n",
    "\n",
    "    del Integral, Solucion\n",
    "    \n",
    "Solutions = np.array(Solutions)"
   ]
  },
  {
   "cell_type": "markdown",
   "metadata": {},
   "source": [
    "Se obtiene los siguientes resultados:\n",
    "\n",
    "``` terminal\n",
    "Riemman Integration:  2.0420352044130184e-12\n",
    "Trapeze Integration:  2.0420352044130184e-12\n",
    "Midpoint Integration:  2.042035235043548e-12\n",
    "Simpson1_3 Integration:  2.042035224833363e-12\n",
    "Simpson3_8 Integration:  2.042035204411995e-12\n",
    "```\n",
    "\n",
    "Algo importamte a considerar es la demora de cada método. Debido que la integración de Riemman toma mucho más tiempo cuando disminuimos el tamaño de paso $h$."
   ]
  },
  {
   "cell_type": "markdown",
   "metadata": {},
   "source": [
    "De la integral dada, tenemos que\n",
    "\n",
    "$$q_{total} = \\int_{0} ^{a} \\sigma_0 \\left( 1 - \\frac{r^2}{a^2} \\right) 2 \\pi r \\; dr$$\n",
    "\n",
    "Entonces\n",
    "\n",
    "$$q_{total} =  \\sigma_0 \\int_{0} ^{a} \\left( 2 \\pi r - \\frac{2 \\pi r^3}{a^2} \\right)  \\; dr $$\n",
    "\n",
    "$$q_{total} = \\sigma_0 \\left[ \\pi r^2 - \\frac{\\pi r^4}{2 a^2} \\right]_{0} ^{a}$$\n",
    "\n",
    "Por lo tanto, la carga total es\n",
    "\n",
    "$$q_{total} = \\sigma_{0} \\left( \\pi a^2 - \\frac{\\pi a^{2}}{2} \\right) = \\frac{\\sigma_{0} \\pi a^2}{2}$$\n",
    "\n",
    "Al sustituir $a$ y $\\sigma_0$, obtenemos que la carga total es la siguiente."
   ]
  },
  {
   "cell_type": "code",
   "execution_count": 4,
   "metadata": {},
   "outputs": [
    {
     "name": "stdout",
     "output_type": "stream",
     "text": [
      "Solución analítica:  2.0420352248333656e-12\n"
     ]
    }
   ],
   "source": [
    "Q_total = (Cilindro.sigma_0*np.pi*(Cilindro.a**2))/2\n",
    "\n",
    "print(\"Solución analítica: \", Q_total)"
   ]
  },
  {
   "cell_type": "markdown",
   "metadata": {},
   "source": [
    "De esta manera podemos comparar los errores."
   ]
  },
  {
   "cell_type": "code",
   "execution_count": 5,
   "metadata": {},
   "outputs": [
    {
     "name": "stdout",
     "output_type": "stream",
     "text": [
      "Método \t \t Error absoluto \t\t Error relativo \t\t Error Porcentual \n",
      "\n",
      "Riemman \t 2.0420347268671254e-20 \t 9.999997561421889e-09 \t  9.999997561421888e-07 %\n",
      "Trapeze \t 2.0420347268671254e-20 \t 9.999997561421889e-09 \t  9.999997561421888e-07 %\n",
      "Midpoint \t -1.0210182318116472e-20 \t -5.000003033223701e-09 \t  -5.000003033223702e-07 %\n",
      "Simpson1_3 \t 2.8272774843121063e-27 \t 1.3845390372944317e-15 \t  1.3845390372944316e-13 %\n",
      "Simpson3_8 \t 2.0421370743120575e-20 \t 1.0000498764553389e-08 \t  1.000049876455339e-06 %\n"
     ]
    }
   ],
   "source": [
    "#Error absoluto y error relativo\n",
    "e_abs = Q_total - Solutions\n",
    "e_r = (Q_total - Solutions)/Q_total\n",
    "\n",
    "print(\"Método \\t \\t\", \"Error absoluto \\t\\t\", \"Error relativo \\t\\t\", \"Error Porcentual \\n\")\n",
    "\n",
    "for i in range(len(Solutions)):\n",
    "    \n",
    "    print(Names[i], \"\\t\", e_abs[i], \"\\t\", e_r[i], \"\\t \", e_r[i]*100, \"%\")"
   ]
  },
  {
   "cell_type": "markdown",
   "metadata": {},
   "source": [
    "<div style=\"text-alig: justify\">\n",
    "Podemos observar que el error en todos los métdos es muy pequeño. Sin embargo, debemos destacar que considerando la magnitud de las cantidades utilizadas, el método de Simpson $1/3$ arrojo una mejor aproximación.\n",
    "</div>"
   ]
  }
 ],
 "metadata": {
  "hide_input": false,
  "kernelspec": {
   "display_name": "Python 3",
   "language": "python",
   "name": "python3"
  },
  "language_info": {
   "codemirror_mode": {
    "name": "ipython",
    "version": 3
   },
   "file_extension": ".py",
   "mimetype": "text/x-python",
   "name": "python",
   "nbconvert_exporter": "python",
   "pygments_lexer": "ipython3",
   "version": "3.8.3"
  },
  "toc": {
   "base_numbering": 1,
   "nav_menu": {},
   "number_sections": true,
   "sideBar": true,
   "skip_h1_title": false,
   "title_cell": "Table of Contents",
   "title_sidebar": "Contents",
   "toc_cell": false,
   "toc_position": {},
   "toc_section_display": true,
   "toc_window_display": false
  }
 },
 "nbformat": 4,
 "nbformat_minor": 4
}
