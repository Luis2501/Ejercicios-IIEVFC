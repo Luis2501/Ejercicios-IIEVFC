{
 "cells": [
  {
   "cell_type": "markdown",
   "metadata": {
    "_uuid": "1752ce061957fd1ce93d2e4db9494b7b29da7935",
    "id": "4skdndoa-7GI"
   },
   "source": [
    "<center>\n",
    "\n",
    "\n",
    "<img src=\"https://habrastorage.org/webt/jq/gc/r5/jqgcr5azmatev6zvgufn8xftehy.png\">\n",
    "    \n",
    "#  **II Escuela de Verano en Física Computacional**\n",
    "\n",
    "Este material está sujeto a los términos y condiciones de la licencia [Creative Commons CC BY-NC-SA 4.0](https://creativecommons.org/licenses/by-nc-sa/4.0/). Se permite el uso gratuito para cualquier propósito no comercial.\n",
    "\n",
    "*También puede consultar la última versión de este notebook en nuestro [repositorio](https://github.com/PCPUNMSM) y los videos de clase [en nuestro canal de Youtube](https://www.youtube.com/channel/UCze8vzQLcplutz0nWDNjFCA).*\n",
    "    "
   ]
  },
  {
   "cell_type": "markdown",
   "metadata": {
    "_uuid": "9b690f2c8129ad9445c544337375b93246c26668",
    "id": "Vm9O4SUd-7GJ"
   },
   "source": [
    "# <center> Lista de Ejercicios\n",
    "\n"
   ]
  },
  {
   "cell_type": "markdown",
   "metadata": {
    "id": "PQi0nq7cQalB"
   },
   "source": [
    "\n",
    "## **Problema 1:  Raíces de ecuaciones**\n",
    "\n"
   ]
  },
  {
   "cell_type": "markdown",
   "metadata": {
    "id": "4h1h9ULyEixi"
   },
   "source": [
    "<p align=\"center\">\n",
    "  <img src=\"https://habrastorage.org/webt/x6/5e/j3/x65ej3pwjn51joueohr3gckbfyy.png\"  width=50% />\n",
    "</p>"
   ]
  },
  {
   "cell_type": "markdown",
   "metadata": {
    "id": "XqXgrdNY_tDE"
   },
   "source": [
    "Considere la ecuación de movimiento de Kepler:\n",
    "\n",
    "$$M=E-e sen(E)$$\n",
    " \n",
    "Donde:\n",
    "\n",
    "* $M$: anomalía media.\n",
    "* $E$: anomalía excéntrica de una órbita elíptica .\n",
    "* $e$: Excentricidad. \n",
    "\n",
    "Para encontrar $E$, necesitamos resolver la ecuación no lineal:\n",
    "\n",
    "$$f(E) = M + e sen E − E = 0$$\n",
    "\n",
    "Dado $e = 0.0167$ (excentricidad de la Tierra), $a=1$UA (Distancia de la tierra al sol) y $M = 1$ (en radianes)\n",
    "\n",
    "**a)** Defina y utilice 3 métodos para calcular $E$ elegir aproximaciones iniciales apropiadas o un intervalo que contenga la raíz (requerido para el método de bisección), grafique la función $f (E)$ y luego determine gráficamente dónde cruza el eje $E$.\n",
    "\n",
    "**b)** Calcule E, (haciendo $f(E)=0$ para distintos valores de $M$) , donde $t_0=0, t=100$ días (P es constante), elija esos valores de $E$, grafique $E(t), x(t), y(t)$, detalle su análisis.\n",
    "\n",
    "Sabiendo que:\n",
    "\n",
    "$$x=a.cos(E-e)$$\n",
    "\n",
    "$$y=a\\sqrt{1-e^2}sen(E)$$\n",
    "\n",
    "$$M=\\frac{2\\pi (t-t_0)}{P}$$\n",
    "\n",
    "donde:\n",
    "\n",
    "t: tiempo en días\n",
    "\n",
    "P: Periodo\n",
    "\n",
    "Conocemos de la **tercera ley de Kepler**:\n",
    "\n",
    "$$P=\\frac{2\\pi a^{3/2}}{(G(M_\\star+m))^{1/2}}$$\n",
    "\n",
    "$a,G,M_\\star,m$ son la distancia de la tierra al sol, la constante de gravitación universal, la masa del sol y la masa de la tierra"
   ]
  },
  {
   "cell_type": "code",
   "execution_count": null,
   "metadata": {
    "id": "RgHjhJJrOmmv"
   },
   "outputs": [],
   "source": [
    "## Introduce tu respuesta aquí"
   ]
  },
  {
   "cell_type": "markdown",
   "metadata": {
    "id": "B5oZylATOmmw"
   },
   "source": [
    "## **Problema 2: Interpolación**"
   ]
  },
  {
   "cell_type": "markdown",
   "metadata": {
    "id": "9DnOghRsOmmw"
   },
   "source": [
    "Dadas las funciones:\n",
    "\n",
    "1. $f (x) = sin(x^2) $\n",
    "\n",
    "2. $f (x) = e^{sin (x)}$\n",
    "\n",
    "3. $f (x) = \\frac{0.2}{(x-3.2)^2 + 0.04}$\n",
    "\n",
    "**a)** Estudiar el error en dos métodos de interpolación (de su elección) con 10,20 y 50 datos (uniformemente distribuidos) en el intervalo [0.0, 5.0] y compare los resultados.\n",
    "\n",
    "**b)** Hallar los órdenes de convergencia, elabore su gráfico con el eje x en base 2 y detallar su análisis.\n",
    "\n",
    "**c)** Añade una perturbación sinusoidal ($\\delta g(x)=sin(x)$) del orden de $10^{-4},10^{-5}, 10^{-6}$ con distribución homogénea, grafice y detalle su análisis, ¿cuál es el error que generan con respecto a aproximación hecha en \"2.a)\"?"
   ]
  },
  {
   "cell_type": "code",
   "execution_count": null,
   "metadata": {
    "id": "VIAJguU-Ommx"
   },
   "outputs": [],
   "source": [
    "## Introduce tu respuesta aquí"
   ]
  },
  {
   "cell_type": "markdown",
   "metadata": {
    "id": "CPiet4s9Ommx"
   },
   "source": [
    "### Problema 3: Derivación numérica"
   ]
  },
  {
   "cell_type": "markdown",
   "metadata": {
    "id": "0XsAD08oOmmy"
   },
   "source": [
    "En 1928, George Gamow propuso una teoría muy exitosa del decaímiento $\\alpha$, según la cual la partícula $α$ se mueve libremente dentro del núcleo y se emite después de atravesar la barrera potencial entre ella y el núcleo hijo. En otras palabras, la partícula $α$, de carga $Z_2$, cuya energía es $E$, está atrapada en un pozo potencial de radio R por la barrera potencial:\n",
    "\n",
    "$$V(r)=\\frac{Z_1Z_2e^2}{4\\pi\\epsilon_0 r}$$\n",
    "\n",
    "para $r>R$.\n",
    "\n",
    "$Z_1 =Z-2, \\quad Z_2=2$, donde Z es la carga del núcleo de radio R.\n",
    "\n",
    "$r$: es el radio fuera del núcleo ($r>R$ y con A, número de masa) donde:\n",
    "\n",
    "$$R = 1.5\\times 10^{-15}\\,A^{1/3}\\,{\\rm m}=2.0\\times 10^{-15}\\,Z_1^{\\,1/3}\\,{\\rm m}$$"
   ]
  },
  {
   "cell_type": "markdown",
   "metadata": {
    "id": "yLRW88_oOmmy"
   },
   "source": [
    "a) Calcule la fuerza que experimenta la partícula y analice $\\alpha$ para $r\\in [R,3R]$, utilizando los tres esquemas de diferencias finitas.\n",
    "\n",
    "b) Comparar los esquemas con la solución analítica, calcular los errores, órdenes de convergencia y detallar su análisis."
   ]
  },
  {
   "cell_type": "code",
   "execution_count": null,
   "metadata": {
    "id": "g4rSazy2Ommy"
   },
   "outputs": [],
   "source": [
    "# Introduce tu respuesta aquí"
   ]
  },
  {
   "cell_type": "markdown",
   "metadata": {
    "id": "ZSeLKbwTOmmz"
   },
   "source": [
    "### Problema 4: Integración numérica"
   ]
  },
  {
   "cell_type": "markdown",
   "metadata": {
    "id": "a5xZrZd5Ommz"
   },
   "source": [
    "La carga a partir de la densidad radial de carga lineal, $\\lambda$, sobre el área de la sección transversal del cilindro, está definida por:\n",
    "\n",
    "$$q_{total}=\\int_A \\lambda(r)dA(r)$$\n",
    "\n",
    "donde, dA es el diferencial de área de la base del cilindro:\n",
    "\n",
    "$$q_{total}=\\int_A \\lambda(r)(2\\pi r dr)$$\n",
    "\n",
    "Sabemos que la densidad tiene la forma:\n",
    "\n",
    "$$\\lambda(r)=\\lambda_0 \\left(1-\\frac{r^2}{a^2} \\right)$$\n",
    "\n",
    "Y el campo eléctrico:\n",
    "\n",
    "$$\\vec{E}=\\frac{kq_{total}}{d^2}\\hat r$$\n",
    "\n",
    "d: distancia de la superficie al espacio a evaluar el campo eléctrico. ($d\\gt r$)\n",
    "\n",
    "\n",
    "a) Determina la distribución de la carga y campo eléctrico (a distancias $d \\in \\{ r+r/4,r+r/2\\}$ ) en función al radio utilizando 3 métodos de integración.\n",
    "\n",
    "b) Obtener la solución analítica, comparar los errores de distintos métodos y detallar análisis.\n",
    "\n"
   ]
  },
  {
   "cell_type": "code",
   "execution_count": null,
   "metadata": {
    "id": "ov3gBG-bOmmz"
   },
   "outputs": [],
   "source": [
    "# Introduce tu respuesta aquí"
   ]
  },
  {
   "cell_type": "markdown",
   "metadata": {
    "id": "lLzG05ZVOmmz"
   },
   "source": [
    "### Problema 5:"
   ]
  },
  {
   "cell_type": "markdown",
   "metadata": {
    "id": "nv5Tao_AOmm0"
   },
   "source": [
    "Considerar un aro horizontal sin rozamiento de radio R. En este aro enhebro tres objetos con masas idénticas m, y, entre los objetos, tres muelles idénticos, cada uno con una masa constante de fuerza k."
   ]
  },
  {
   "cell_type": "markdown",
   "metadata": {
    "id": "f8OO4YhlOmm0"
   },
   "source": [
    "<p align=\"center\">\n",
    "  <img src=\"https://habrastorage.org/webt/nz/qz/g4/nzqzg42gjarvpx3yk-fy0qgn20k.png\"  width=55% />\n",
    "</p>\n",
    "\n"
   ]
  },
  {
   "cell_type": "markdown",
   "metadata": {
    "id": "VtlNTfl3Omm0"
   },
   "source": [
    "Sabemos que, la energía cinética es:\n",
    "\n",
    "$$T=\\frac{1}{2}mR^2(\\dot{\\phi_1^2}+\\dot{\\phi_2^2}+\\dot{\\phi_3^2})$$\n",
    "\n",
    "y la energía potencial:\n",
    "\n",
    "$$U=\\frac{1}{2}kR^2 [(\\phi_1-\\phi_2)^2+(\\phi_2-\\phi_3)^2+(\\phi_3-\\phi_1)^2]$$"
   ]
  },
  {
   "cell_type": "markdown",
   "metadata": {
    "id": "NrIEZnEIOmm0"
   },
   "source": [
    "Resultado: Sistema de EDOs \n",
    "\n",
    "$$m\\frac{d^2\\phi_1}{dt^2}=-k(\\phi_1-\\phi_2)-k(\\phi_1-\\phi_3)$$\n",
    "\n",
    "$$m\\frac{d^2\\phi_2}{dt^2}=-k(\\phi_2-\\phi_3)-k(\\phi_2-\\phi_1)$$\n",
    "\n",
    "$$m\\frac{d^2\\phi_3}{dt^2}=-k(\\phi_3-\\phi_1)-k(\\phi_3-\\phi_2)$$\n"
   ]
  },
  {
   "cell_type": "markdown",
   "metadata": {
    "id": "59ruLNuoOmm1"
   },
   "source": [
    "a) Encontrar las ecuaciones de movimiento para cada masa usando las ecuaciones de Euler-Lagrange. *(ejemplo en PCP_sesión5.ipynb)*\n",
    "\n",
    "b) Resolver numéricamente el sistema de ecuaciones con los métodos de Euler y RK de orden 4. Para los datos: $\\phi_1=\\phi_2/2,\\quad \\phi_2=\\phi_3/2,\\quad \\phi_3=\\pi/10 \\quad $ y $\\quad \\phi_1'=1,\\quad \\phi_2'=1,\\quad \\phi_3'=1, \\quad R=m=k=1$\n",
    "\n",
    "c) Mostrar los resultados y explicar la dinámica del sistema en base al resultado de la simulación."
   ]
  },
  {
   "cell_type": "code",
   "execution_count": null,
   "metadata": {
    "id": "hKbNsZRpOmm1"
   },
   "outputs": [],
   "source": [
    "# Introduce tu respuesta aquí"
   ]
  },
  {
   "cell_type": "markdown",
   "metadata": {
    "id": "RA2FtkarOmm1"
   },
   "source": [
    "Problema 6: (Opcional)\n",
    "\n",
    "De las sesiones brindadas, su propia experiencia y preferencias: Definir un problema a resolver con el enfoque numérico, explique a detalle cada consideración que realice y explique sus conclusiones. \n",
    "\n",
    "El problema puede ser la implementación de un modelo estándar discutido en libros de física (i.e. obtener el gráfico típico de estructura de ionización del átomo de Hidrógeno.), proyecto que esté desarrollando en su formación o complementar cálculos de las sesiones."
   ]
  },
  {
   "cell_type": "code",
   "execution_count": null,
   "metadata": {
    "id": "C3YysC_JOmm1"
   },
   "outputs": [],
   "source": [
    "# Introduce tu respuesta aquí"
   ]
  },
  {
   "cell_type": "markdown",
   "metadata": {
    "id": "CMbTnQJKOmm2"
   },
   "source": [
    "**Por último, debe de rellenar la siguiente encuesta de satisfacción:** https://forms.gle/4WU3ovvP7gJMj8GA7 (ingresar con el correo que se inscribió)."
   ]
  },
  {
   "cell_type": "markdown",
   "metadata": {
    "id": "LmD7y2aCOmm2"
   },
   "source": [
    "Enviar sus respuestas a nuestro correo: pythonclubforphysicists@gmail.com\n",
    "\n",
    "**OJO: El correo debe de tener como asunto:**\n",
    "**\"Ejercicios_IIEVFC\"**\n",
    "\n",
    "*Caso contrario su solución puede quedar sin evaluar debido a la gran cantidad de correos.*"
   ]
  },
  {
   "cell_type": "markdown",
   "metadata": {
    "id": "6ucKfX5Q-7Ga"
   },
   "source": [
    "\n",
    "## Donaciones\n",
    "<br>\n",
    "<center>\n",
    "Puedes donar una vez en el siguiente enlace (Ko-Fi):\n",
    "\n",
    "<br>\n",
    "    \n",
    "*Click en la imagen.*\n",
    "\n",
    "<a href=\"https://ko-fi.com/rcrdphysics\">\n",
    "<img src=\"https://habrastorage.org/webt/8r/ml/xf/8rmlxfpdzukegpxa62cxlfvgkqe.png\" width=20% />\n",
    "\n",
    "</center>"
   ]
  }
 ],
 "metadata": {
  "colab": {
   "name": "Copia de Ejercicios_IIEVFC.ipynb",
   "provenance": []
  },
  "hide_input": false,
  "kernelspec": {
   "display_name": "Python 3",
   "language": "python",
   "name": "python3"
  },
  "language_info": {
   "codemirror_mode": {
    "name": "ipython",
    "version": 3
   },
   "file_extension": ".py",
   "mimetype": "text/x-python",
   "name": "python",
   "nbconvert_exporter": "python",
   "pygments_lexer": "ipython3",
   "version": "3.8.3"
  },
  "toc": {
   "base_numbering": 1,
   "nav_menu": {},
   "number_sections": true,
   "sideBar": true,
   "skip_h1_title": false,
   "title_cell": "Table of Contents",
   "title_sidebar": "Contents",
   "toc_cell": false,
   "toc_position": {},
   "toc_section_display": true,
   "toc_window_display": false
  }
 },
 "nbformat": 4,
 "nbformat_minor": 1
}
